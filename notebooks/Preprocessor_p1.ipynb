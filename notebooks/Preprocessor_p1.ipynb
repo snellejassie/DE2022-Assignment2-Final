{
 "cells": [
  {
   "cell_type": "code",
   "execution_count": 1,
   "id": "7b60ada4-f487-4828-9cb0-453f65f098fe",
   "metadata": {},
   "outputs": [],
   "source": [
    "from pyspark.sql import SparkSession\n",
    "from pyspark import SparkConf\n",
    "\n",
    "sparkConf = SparkConf()\n",
    "sparkConf.setMaster(\"spark://spark-master:7077\")\n",
    "sparkConf.setAppName(\"Preprocessor pipeline 1\")\n",
    "sparkConf.set(\"spark.driver.memory\", \"2g\")\n",
    "sparkConf.set(\"spark.executor.cores\", \"1\")\n",
    "sparkConf.set(\"spark.driver.cores\", \"1\")\n",
    "\n",
    "# create the spark session, which is the entry point to Spark SQL engine.\n",
    "spark = SparkSession.builder.config(conf=sparkConf).getOrCreate()\n",
    "# Load the csv file from the chosen dataset into the df variable to preprocess in the rest of the notebook.\n",
    "df = spark.read.format(\"csv\").option(\"header\", \"true\") \\\n",
    "       .load(\"/home/jovyan/data/energy_dataset.csv\")"
   ]
  },
  {
   "cell_type": "code",
   "execution_count": 2,
   "id": "9ffd39c1-b87b-4536-a966-469095c2a75a",
   "metadata": {},
   "outputs": [],
   "source": [
    "# Renaming all columns in such a way that we do not have spaces in the name for the purpose of further preprocessing.\n",
    "df2 = df.withColumnRenamed(\"generation biomass\",\"generation_biomass\") \\\n",
    "    .withColumnRenamed(\"time\",\"ts\") \\\n",
    "    .withColumnRenamed(\"generation fossil brown coal/lignite\",\"generation_fossil_brown_coal_lignite\") \\\n",
    "    .withColumnRenamed(\"generation fossil coal-derived gas\",\"generation_fossil_coal_derived_gas\") \\\n",
    "    .withColumnRenamed(\"generation fossil gas\",\"generation_fossil_gas\") \\\n",
    "    .withColumnRenamed(\"generation fossil hard coal\",\"generation_fossil_hard_coal\") \\\n",
    "    .withColumnRenamed(\"generation fossil oil\",\"generation_fossil_oil\") \\\n",
    "    .withColumnRenamed(\"generation fossil oil shale\",\"generation_fossil_oil_shale\") \\\n",
    "    .withColumnRenamed(\"generation fossil peat\",\"generation_fossil_peat\") \\\n",
    "    .withColumnRenamed(\"generation geothermal\",\"generation_geothermal\") \\\n",
    "    .withColumnRenamed(\"generation hydro pumped storage aggregated\",\"generation_hydro_pumped_storage_aggregated\") \\\n",
    "    .withColumnRenamed(\"generation hydro pumped storage consumption\",\"generation_hydro_pumped_storage_consumption\") \\\n",
    "    .withColumnRenamed(\"generation hydro run-of-river and poundage\",\"generation_hydro_run_of_river_and_poundage\") \\\n",
    "    .withColumnRenamed(\"generation hydro water reservoir\",\"generation_hydro_water_reservoir\") \\\n",
    "    .withColumnRenamed(\"generation marine\",\"generation_marine\") \\\n",
    "    .withColumnRenamed(\"generation nuclear\",\"generation_nuclear\") \\\n",
    "    .withColumnRenamed(\"generation other\",\"generation_other\") \\\n",
    "    .withColumnRenamed(\"generation other renewable\",\"generation_other_renewable\") \\\n",
    "    .withColumnRenamed(\"generation solar\",\"generation_solar\") \\\n",
    "    .withColumnRenamed(\"generation waste\",\"generation_waste\") \\\n",
    "    .withColumnRenamed(\"generation wind offshore\",\"generation_wind_offshore\") \\\n",
    "    .withColumnRenamed(\"generation wind onshore\",\"generation_wind_onshore\") \\\n",
    "    .withColumnRenamed(\"forecast solar day ahead\",\"forecast_solar_day_ahead\") \\\n",
    "    .withColumnRenamed(\"forecast wind offshore eday ahead\",\"forecast_wind_offshore_day_ahead\") \\\n",
    "    .withColumnRenamed(\"forecast wind onshore day ahead\",\"forecast_wind_onshore_day_ahead\") \\\n",
    "    .withColumnRenamed(\"total load forecast\",\"total_load_forecast\") \\\n",
    "    .withColumnRenamed(\"total load actual\",\"total_load_actual\") \\\n",
    "    .withColumnRenamed(\"price day ahead\",\"price_day_ahead\") \\\n",
    "    .withColumnRenamed(\"price actual\",\"price_actual\") "
   ]
  },
  {
   "cell_type": "code",
   "execution_count": 3,
   "id": "e468a2c2-5b76-49d3-8a4c-5cbc300e1570",
   "metadata": {},
   "outputs": [
    {
     "name": "stdout",
     "output_type": "stream",
     "text": [
      "root\n",
      " |-- time: string (nullable = true)\n",
      " |-- generation biomass: string (nullable = true)\n",
      " |-- generation fossil brown coal/lignite: string (nullable = true)\n",
      " |-- generation fossil coal-derived gas: string (nullable = true)\n",
      " |-- generation fossil gas: string (nullable = true)\n",
      " |-- generation fossil hard coal: string (nullable = true)\n",
      " |-- generation fossil oil: string (nullable = true)\n",
      " |-- generation fossil oil shale: string (nullable = true)\n",
      " |-- generation fossil peat: string (nullable = true)\n",
      " |-- generation geothermal: string (nullable = true)\n",
      " |-- generation hydro pumped storage aggregated: string (nullable = true)\n",
      " |-- generation hydro pumped storage consumption: string (nullable = true)\n",
      " |-- generation hydro run-of-river and poundage: string (nullable = true)\n",
      " |-- generation hydro water reservoir: string (nullable = true)\n",
      " |-- generation marine: string (nullable = true)\n",
      " |-- generation nuclear: string (nullable = true)\n",
      " |-- generation other: string (nullable = true)\n",
      " |-- generation other renewable: string (nullable = true)\n",
      " |-- generation solar: string (nullable = true)\n",
      " |-- generation waste: string (nullable = true)\n",
      " |-- generation wind offshore: string (nullable = true)\n",
      " |-- generation wind onshore: string (nullable = true)\n",
      " |-- forecast solar day ahead: string (nullable = true)\n",
      " |-- forecast wind offshore eday ahead: string (nullable = true)\n",
      " |-- forecast wind onshore day ahead: string (nullable = true)\n",
      " |-- total load forecast: string (nullable = true)\n",
      " |-- total load actual: string (nullable = true)\n",
      " |-- price day ahead: string (nullable = true)\n",
      " |-- price actual: string (nullable = true)\n",
      "\n",
      "14\n",
      "root\n",
      " |-- ts: string (nullable = true)\n",
      " |-- generation_biomass: string (nullable = true)\n",
      " |-- generation_fossil_brown_coal_lignite: string (nullable = true)\n",
      " |-- generation_fossil_coal_derived_gas: string (nullable = true)\n",
      " |-- generation_fossil_gas: string (nullable = true)\n",
      " |-- generation_fossil_hard_coal: string (nullable = true)\n",
      " |-- generation_fossil_oil: string (nullable = true)\n",
      " |-- generation_fossil_oil_shale: string (nullable = true)\n",
      " |-- generation_fossil_peat: string (nullable = true)\n",
      " |-- generation_geothermal: string (nullable = true)\n",
      " |-- generation_hydro_pumped_storage_aggregated: string (nullable = true)\n",
      " |-- generation_hydro_pumped_storage_consumption: string (nullable = true)\n",
      " |-- generation_hydro_run_of_river_and_poundage: string (nullable = true)\n",
      " |-- generation_hydro_water_reservoir: string (nullable = true)\n",
      " |-- generation_marine: string (nullable = true)\n",
      " |-- generation_nuclear: string (nullable = true)\n",
      " |-- generation_other: string (nullable = true)\n",
      " |-- generation_other_renewable: string (nullable = true)\n",
      " |-- generation_solar: string (nullable = true)\n",
      " |-- generation_waste: string (nullable = true)\n",
      " |-- generation_wind_offshore: string (nullable = true)\n",
      " |-- generation_wind_onshore: string (nullable = true)\n",
      " |-- forecast_solar_day_ahead: string (nullable = true)\n",
      " |-- forecast_wind_offshore_day_ahead: string (nullable = true)\n",
      " |-- forecast_wind_onshore_day_ahead: string (nullable = true)\n",
      " |-- total_load_forecast: string (nullable = true)\n",
      " |-- total_load_actual: string (nullable = true)\n",
      " |-- price_day_ahead: string (nullable = true)\n",
      " |-- price_actual: string (nullable = true)\n",
      "\n",
      "20\n"
     ]
    }
   ],
   "source": [
    "# Check whether all mutations went correctly.\n",
    "df.printSchema()\n",
    "print(df.rdd.id())\n",
    "\n",
    "df2.printSchema()\n",
    "print(df2.rdd.id())"
   ]
  },
  {
   "cell_type": "code",
   "execution_count": 38,
   "id": "2da38808-fda7-4a07-8648-073c45020fd3",
   "metadata": {},
   "outputs": [],
   "source": [
    "# Transform df2 to a new variable where we take the types of the columns into account, since we saw above that the dataset stores all variables as String type.\n",
    "import pyspark.sql.functions as F\n",
    "\n",
    "df3 = df2.withColumn(\"generation_solar\", df2[\"generation_solar\"].cast('float')) \\\n",
    "    .withColumn(\"day\", F.dayofweek(df2[\"ts\"]).cast('integer')) \\\n",
    "    .withColumn(\"month\", F.month(df2[\"ts\"]).cast('integer')) \\\n",
    "    .withColumn(\"year\", F.year(df2[\"ts\"]).cast('integer')) \\\n",
    "    .withColumn(\"hour\", F.hour(df2[\"ts\"]).cast('integer')) \\\n",
    "    .withColumn(\"generation_wind_offshore\", df2[\"generation_wind_offshore\"].cast('float')) \\\n",
    "    .withColumn(\"generation_wind_onshore\", df2[\"generation_wind_onshore\"].cast('float')) \\\n",
    "    .withColumn(\"forecast_solar_day_ahead\", df2[\"forecast_solar_day_ahead\"].cast('float')) \\\n",
    "    .withColumn(\"forecast_wind_offshore_day_ahead\", df2[\"forecast_wind_offshore_day_ahead\"].cast('float')) \\\n",
    "    .withColumn(\"forecast_wind_onshore_day_ahead\", df2[\"forecast_wind_onshore_day_ahead\"].cast('float')) \\\n",
    "    .withColumn(\"price_day_ahead\", df2[\"price_day_ahead\"].cast('float')) \\\n",
    "    .withColumn(\"price_actual\", df2[\"price_actual\"].cast('float'))"
   ]
  },
  {
   "cell_type": "code",
   "execution_count": 52,
   "id": "811f3e5a-635a-482c-a65d-4cf56d67784e",
   "metadata": {},
   "outputs": [],
   "source": [
    "#df3.head(25)"
   ]
  },
  {
   "cell_type": "code",
   "execution_count": 46,
   "id": "6bc5345e-c0f5-42b5-afb1-e59f12340147",
   "metadata": {},
   "outputs": [],
   "source": [
    "# Create a new dataframe df4 where we only store the columns relevant for the first data pipeline.\n",
    "columns= [\"ts\",\"year\", \"month\", \"day\", \"hour\", \"generation_solar\",\"generation_wind_offshore\",\"generation_wind_onshore\",\"forecast_solar_day_ahead\"\n",
    "         , \"forecast_wind_onshore_day_ahead\", \"price_day_ahead\", \"price_actual\"]\n",
    "df4 = df3.select(columns)"
   ]
  },
  {
   "cell_type": "code",
   "execution_count": 47,
   "id": "33e7f76c-7422-43d7-93b5-3d1082259a93",
   "metadata": {},
   "outputs": [
    {
     "name": "stdout",
     "output_type": "stream",
     "text": [
      "(35064, 12)\n",
      "(35046, 12)\n"
     ]
    }
   ],
   "source": [
    "# Check the effect of deleted columns\n",
    "df5 = df4.dropna()\n",
    "print((df4.count(), len(df4.columns)))\n",
    "print((df5.count(), len(df5.columns)))"
   ]
  },
  {
   "cell_type": "code",
   "execution_count": 48,
   "id": "bba597b5-2311-496b-8928-0e2b375e43f4",
   "metadata": {},
   "outputs": [],
   "source": [
    "# Create the final sub dataframe df6 with the correct timestamp variable\n",
    "df6 = df5.withColumn(\"generation_solar\", df5[\"generation_solar\"].cast('integer')) \\\n",
    "    .withColumn(\"generation_wind_offshore\", df5[\"generation_wind_offshore\"].cast('integer')) \\\n",
    "    .withColumn(\"generation_wind_onshore\", df5[\"generation_wind_onshore\"].cast('integer')) \\\n",
    "    .withColumn(\"forecast_solar_day_ahead\", df5[\"forecast_solar_day_ahead\"].cast('integer')) \\\n",
    "    .withColumn(\"forecast_wind_onshore_day_ahead\", df5[\"forecast_wind_onshore_day_ahead\"].cast('integer')) \\\n",
    "    .withColumn(\"price_day_ahead\", df5[\"price_day_ahead\"].cast('float')) \\\n",
    "    .withColumn(\"price_actual\", df5[\"price_actual\"].cast('float')) \\\n",
    "    .withColumn(\"ts\", df5[\"ts\"].cast('timestamp'))"
   ]
  },
  {
   "cell_type": "code",
   "execution_count": 49,
   "id": "a77928a0-284f-48cc-9f20-99b7799dd16e",
   "metadata": {},
   "outputs": [
    {
     "data": {
      "text/plain": [
       "[Row(ts=datetime.datetime(2014, 12, 31, 23, 0), year=2015, month=1, day=5, hour=23, generation_solar=49, generation_wind_offshore=0, generation_wind_onshore=6378, forecast_solar_day_ahead=17, forecast_wind_onshore_day_ahead=6436, price_day_ahead=50.099998474121094, price_actual=65.41000366210938)]"
      ]
     },
     "execution_count": 49,
     "metadata": {},
     "output_type": "execute_result"
    }
   ],
   "source": [
    "df6.head(1)"
   ]
  },
  {
   "cell_type": "code",
   "execution_count": 50,
   "id": "da8a24cb-e678-4838-9e14-e32eee7e3620",
   "metadata": {},
   "outputs": [
    {
     "name": "stderr",
     "output_type": "stream",
     "text": [
      "/usr/local/spark/python/pyspark/sql/pandas/conversion.py:248: FutureWarning: Passing unit-less datetime64 dtype to .astype is deprecated and will raise in a future version. Pass 'datetime64[ns]' instead\n",
      "  series = series.astype(t, copy=False)\n"
     ]
    }
   ],
   "source": [
    "# Save df6 as a csv file in the jupyter lab environment of the virtual machine.\n",
    "df6.toPandas().to_csv('energy_dataset_preprocessed.csv')"
   ]
  },
  {
   "cell_type": "code",
   "execution_count": 51,
   "id": "4a608009-7a51-4cac-847b-7de72e2b9a07",
   "metadata": {},
   "outputs": [
    {
     "data": {
      "text/plain": [
       "[Row(ts=datetime.datetime(2014, 12, 31, 23, 0), year=2015, month=1, day=5, hour=23, generation_solar=49, generation_wind_offshore=0, generation_wind_onshore=6378, forecast_solar_day_ahead=17, forecast_wind_onshore_day_ahead=6436, price_day_ahead=50.099998474121094, price_actual=65.41000366210938)]"
      ]
     },
     "execution_count": 51,
     "metadata": {},
     "output_type": "execute_result"
    }
   ],
   "source": [
    "df6.head(1)"
   ]
  }
 ],
 "metadata": {
  "kernelspec": {
   "display_name": "Python 3 (ipykernel)",
   "language": "python",
   "name": "python3"
  },
  "language_info": {
   "codemirror_mode": {
    "name": "ipython",
    "version": 3
   },
   "file_extension": ".py",
   "mimetype": "text/x-python",
   "name": "python",
   "nbconvert_exporter": "python",
   "pygments_lexer": "ipython3",
   "version": "3.10.6"
  }
 },
 "nbformat": 4,
 "nbformat_minor": 5
}
