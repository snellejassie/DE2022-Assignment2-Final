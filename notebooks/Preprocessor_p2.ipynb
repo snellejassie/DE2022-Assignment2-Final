{
 "cells": [
  {
   "cell_type": "code",
   "execution_count": 22,
   "id": "64480a47-eeab-4bb3-a05d-e8b4eb53a935",
   "metadata": {},
   "outputs": [],
   "source": [
    "from pyspark.sql import SparkSession\n",
    "from pyspark import SparkConf\n",
    "\n",
    "sparkConf = SparkConf()\n",
    "sparkConf.setMaster(\"spark://spark-master:7077\")\n",
    "sparkConf.setAppName(\"Preprocessor pipeline 2\")\n",
    "sparkConf.set(\"spark.driver.memory\", \"2g\")\n",
    "sparkConf.set(\"spark.executor.cores\", \"1\")\n",
    "sparkConf.set(\"spark.driver.cores\", \"1\")\n",
    "\n",
    "# create the spark session, which is the entry point to Spark SQL engine.\n",
    "spark = SparkSession.builder.config(conf=sparkConf).getOrCreate()\n",
    "# Load the csv file from the chosen dataset into the df variable to preprocess in the rest of the notebook.\n",
    "df = spark.read.format(\"csv\").option(\"header\", \"true\") \\\n",
    "       .load(\"/home/jovyan/data/complete_dataset.csv\")"
   ]
  },
  {
   "cell_type": "code",
   "execution_count": 23,
   "id": "db8f302b-734b-4f0b-883c-ade5c01d8cf9",
   "metadata": {},
   "outputs": [
    {
     "data": {
      "text/plain": [
       "[Row(date='2015-01-01', demand='99635.03', RRP='25.63369643387471', demand_pos_RRP='97319.24000000002', RRP_positive='26.415952619440922', demand_neg_RRP='2315.79', RRP_negative='-7.239999999999997', frac_at_neg_RRP='0.020833334', min_temperature='13.3', max_temperature='26.9', solar_exposure='23.6', rainfall='0.0', school_day='N', holiday='Y')]"
      ]
     },
     "execution_count": 23,
     "metadata": {},
     "output_type": "execute_result"
    }
   ],
   "source": [
    "df.head(1)"
   ]
  },
  {
   "cell_type": "code",
   "execution_count": 24,
   "id": "b60f0693-ed2a-4baf-ae33-9f6c3933ec8b",
   "metadata": {},
   "outputs": [],
   "source": [
    "import pyspark.sql.functions as F\n",
    "\n",
    "df2 = df.withColumn(\"date\", df[\"date\"].cast('timestamp')) \\\n",
    "    .withColumn(\"demand\", df[\"demand\"].cast('float')) \\\n",
    "    .withColumn(\"RRP\", df[\"RRP\"].cast('float')) \\\n",
    "    .withColumn(\"demand_pos_RRP\", df[\"demand_pos_RRP\"].cast('float')) \\\n",
    "    .withColumn(\"RRP_positive\", df[\"RRP_positive\"].cast('float')) \\\n",
    "    .withColumn(\"demand_neg_RRP\", df[\"demand_neg_RRP\"].cast('float')) \\\n",
    "    .withColumn(\"frac_at_neg_RRP\", df[\"frac_at_neg_RRP\"].cast('float')) \\\n",
    "    .withColumn(\"min_temperature\", df[\"min_temperature\"].cast('float')) \\\n",
    "    .withColumn(\"solar_exposure\", df[\"solar_exposure\"].cast('float')) \\\n",
    "    .withColumn(\"rainfall\", df[\"rainfall\"].cast('float')) \\\n",
    "    .withColumn(\"school_day\", df[\"school_day\"].cast('boolean')) \\\n",
    "    .withColumn(\"holiday\", df[\"holiday\"].cast('boolean'))"
   ]
  },
  {
   "cell_type": "code",
   "execution_count": 25,
   "id": "c6835237-b8b4-411b-bedd-f14c4e0e2201",
   "metadata": {},
   "outputs": [
    {
     "name": "stdout",
     "output_type": "stream",
     "text": [
      "root\n",
      " |-- date: string (nullable = true)\n",
      " |-- demand: string (nullable = true)\n",
      " |-- RRP: string (nullable = true)\n",
      " |-- demand_pos_RRP: string (nullable = true)\n",
      " |-- RRP_positive: string (nullable = true)\n",
      " |-- demand_neg_RRP: string (nullable = true)\n",
      " |-- RRP_negative: string (nullable = true)\n",
      " |-- frac_at_neg_RRP: string (nullable = true)\n",
      " |-- min_temperature: string (nullable = true)\n",
      " |-- max_temperature: string (nullable = true)\n",
      " |-- solar_exposure: string (nullable = true)\n",
      " |-- rainfall: string (nullable = true)\n",
      " |-- school_day: string (nullable = true)\n",
      " |-- holiday: string (nullable = true)\n",
      "\n",
      "60\n",
      "[Row(date='2015-01-01', demand='99635.03', RRP='25.63369643387471', demand_pos_RRP='97319.24000000002', RRP_positive='26.415952619440922', demand_neg_RRP='2315.79', RRP_negative='-7.239999999999997', frac_at_neg_RRP='0.020833334', min_temperature='13.3', max_temperature='26.9', solar_exposure='23.6', rainfall='0.0', school_day='N', holiday='Y')]\n",
      "root\n",
      " |-- date: timestamp (nullable = true)\n",
      " |-- demand: float (nullable = true)\n",
      " |-- RRP: float (nullable = true)\n",
      " |-- demand_pos_RRP: float (nullable = true)\n",
      " |-- RRP_positive: float (nullable = true)\n",
      " |-- demand_neg_RRP: float (nullable = true)\n",
      " |-- RRP_negative: string (nullable = true)\n",
      " |-- frac_at_neg_RRP: float (nullable = true)\n",
      " |-- min_temperature: float (nullable = true)\n",
      " |-- max_temperature: string (nullable = true)\n",
      " |-- solar_exposure: float (nullable = true)\n",
      " |-- rainfall: float (nullable = true)\n",
      " |-- school_day: boolean (nullable = true)\n",
      " |-- holiday: boolean (nullable = true)\n",
      "\n",
      "69\n",
      "[Row(date=datetime.datetime(2015, 1, 1, 0, 0), demand=99635.03125, RRP=25.633695602416992, demand_pos_RRP=97319.2421875, RRP_positive=26.415952682495117, demand_neg_RRP=2315.7900390625, RRP_negative='-7.239999999999997', frac_at_neg_RRP=0.02083333395421505, min_temperature=13.300000190734863, max_temperature='26.9', solar_exposure=23.600000381469727, rainfall=0.0, school_day=False, holiday=True)]\n"
     ]
    }
   ],
   "source": [
    "df.printSchema()\n",
    "print(df.rdd.id())\n",
    "print(df.head(1))\n",
    "\n",
    "df2.printSchema()\n",
    "print(df2.rdd.id())\n",
    "print(df2.head(1))"
   ]
  },
  {
   "cell_type": "code",
   "execution_count": 26,
   "id": "b97cc060-2570-4ba5-92f1-07b5c29ea131",
   "metadata": {},
   "outputs": [],
   "source": [
    "df3 = df2.withColumn(\"ts\", F.date_format(F.to_timestamp(\"date\",\"yyyy-MM-dd\"),\"yyyy-MM-dd hh:ss:SSa\")) \\\n",
    "    .withColumn(\"date\", df2[\"date\"].cast('timestamp')) \\\n",
    "    .withColumn(\"demand\", df2[\"demand\"].cast('float')) \\\n",
    "    .withColumn(\"RRP\", df2[\"RRP\"].cast('float')) \\\n",
    "    .withColumn(\"demand_pos_RRP\", df2[\"demand_pos_RRP\"].cast('float')) \\\n",
    "    .withColumn(\"RRP_positive\", df2[\"RRP_positive\"].cast('float')) \\\n",
    "    .withColumn(\"demand_neg_RRP\", df2[\"demand_neg_RRP\"].cast('float')) \\\n",
    "    .withColumn(\"frac_at_neg_RRP\", df2[\"frac_at_neg_RRP\"].cast('float')) \\\n",
    "    .withColumn(\"min_temperature\", df2[\"min_temperature\"].cast('float')) \\\n",
    "    .withColumn(\"solar_exposure\", df2[\"solar_exposure\"].cast('float')) \\\n",
    "    .withColumn(\"rainfall\", df2[\"rainfall\"].cast('float')) \\\n",
    "    .withColumn(\"school_day\", df2[\"school_day\"].cast('boolean')) \\\n",
    "    .withColumn(\"holiday\", df2[\"holiday\"].cast('boolean'))"
   ]
  },
  {
   "cell_type": "code",
   "execution_count": 27,
   "id": "a05bedc2-e617-4263-85dc-c21bae6a973d",
   "metadata": {},
   "outputs": [],
   "source": [
    "df4 = df3.withColumn(\"date\", df3[\"date\"].cast('timestamp')) \\\n",
    "    .withColumn(\"day\", F.dayofweek(df3[\"ts\"]).cast('integer')) \\\n",
    "    .withColumn(\"month\", F.month(df3[\"ts\"]).cast('integer')) \\\n",
    "    .withColumn(\"year\", F.year(df3[\"ts\"]).cast('integer')) \\\n",
    "    .withColumn(\"demand\", df3[\"demand\"].cast('float')) \\\n",
    "    .withColumn(\"RRP\", df3[\"RRP\"].cast('float')) \\\n",
    "    .withColumn(\"demand_pos_RRP\", df3[\"demand_pos_RRP\"].cast('float')) \\\n",
    "    .withColumn(\"RRP_positive\", df3[\"RRP_positive\"].cast('float')) \\\n",
    "    .withColumn(\"demand_neg_RRP\", df3[\"demand_neg_RRP\"].cast('float')) \\\n",
    "    .withColumn(\"frac_at_neg_RRP\", df3[\"frac_at_neg_RRP\"].cast('float')) \\\n",
    "    .withColumn(\"min_temperature\", df3[\"min_temperature\"].cast('float')) \\\n",
    "    .withColumn(\"solar_exposure\", df3[\"solar_exposure\"].cast('float')) \\\n",
    "    .withColumn(\"rainfall\", df3[\"rainfall\"].cast('float')) \\\n",
    "    .withColumn(\"school_day\", df3[\"school_day\"].cast('boolean')) \\\n",
    "    .withColumn(\"holiday\", df3[\"holiday\"].cast('boolean'))"
   ]
  },
  {
   "cell_type": "code",
   "execution_count": 28,
   "id": "a5153b96-5e57-4f1d-8f8f-64b7cf1a490a",
   "metadata": {},
   "outputs": [
    {
     "name": "stdout",
     "output_type": "stream",
     "text": [
      "(2106, 18)\n",
      "(2102, 18)\n"
     ]
    }
   ],
   "source": [
    "# Check the effect of deleted columns\n",
    "df5 = df4.dropna()\n",
    "print((df4.count(), len(df4.columns)))\n",
    "print((df5.count(), len(df5.columns)))"
   ]
  },
  {
   "cell_type": "code",
   "execution_count": 29,
   "id": "cdffb0ea-7141-450c-a94b-55acbc04c86e",
   "metadata": {},
   "outputs": [
    {
     "name": "stderr",
     "output_type": "stream",
     "text": [
      "/usr/local/spark/python/pyspark/sql/pandas/conversion.py:248: FutureWarning: Passing unit-less datetime64 dtype to .astype is deprecated and will raise in a future version. Pass 'datetime64[ns]' instead\n",
      "  series = series.astype(t, copy=False)\n"
     ]
    }
   ],
   "source": [
    "# Save df6 as a csv file in the jupyter lab environment of the virtual machine.\n",
    "df5.toPandas().to_csv('complete_dataset_preprocessed.csv')"
   ]
  }
 ],
 "metadata": {
  "kernelspec": {
   "display_name": "Python 3 (ipykernel)",
   "language": "python",
   "name": "python3"
  },
  "language_info": {
   "codemirror_mode": {
    "name": "ipython",
    "version": 3
   },
   "file_extension": ".py",
   "mimetype": "text/x-python",
   "name": "python",
   "nbconvert_exporter": "python",
   "pygments_lexer": "ipython3",
   "version": "3.10.6"
  }
 },
 "nbformat": 4,
 "nbformat_minor": 5
}
